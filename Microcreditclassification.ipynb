{
 "cells": [
  {
   "cell_type": "code",
   "execution_count": 100,
   "metadata": {},
   "outputs": [],
   "source": [
    "import pickle\n",
    "\n",
    "import numpy as np # linear algebra\n",
    "import pandas as pd # data processing, CSV file I/O (e.g. pd.read_csv)\n",
    "import pandas as pd\n",
    "import os.path as osp \n",
    "import os\n",
    "from sklearn.model_selection import train_test_split\n",
    "from sklearn.pipeline import Pipeline\n",
    "from sklearn.preprocessing import (\n",
    "    StandardScaler, MinMaxScaler, OneHotEncoder\n",
    ")\n",
    "from sklearn.impute import SimpleImputer\n",
    "from sklearn.compose import ColumnTransformer\n",
    "from sklearn.svm import SVC\n",
    "from sklearn.linear_model import LogisticRegression\n",
    "from sklearn.discriminant_analysis import LinearDiscriminantAnalysis #LDA\n",
    "from sklearn.decomposition import PCA\n",
    "from sklearn.feature_selection import SelectFromModel #para seleccionar los coeficientes de lasso\n",
    "from sklearn.metrics import roc_auc_score, f1_score\n",
    "from sklearn import set_config\n",
    "from sklearn.base import BaseEstimator, TransformerMixin\n",
    "set_config(display=\"diagram\")\n",
    "\n",
    "from sklearn.impute import KNNImputer\n",
    "from sklearn.preprocessing import MinMaxScaler\n",
    "from sklearn.model_selection import KFold\n",
    "from sklearn.neural_network import MLPClassifier\n",
    "from bayes_opt import BayesianOptimization\n",
    "from bayes_opt.logger import JSONLogger\n",
    "from bayes_opt.event import Events"
   ]
  },
  {
   "cell_type": "code",
   "execution_count": 101,
   "metadata": {},
   "outputs": [
    {
     "name": "stdout",
     "output_type": "stream",
     "text": [
      "<class 'pandas.core.frame.DataFrame'>\n",
      "RangeIndex: 20188 entries, 0 to 20187\n",
      "Data columns (total 16 columns):\n",
      " #   Column     Non-Null Count  Dtype         \n",
      "---  ------     --------------  -----         \n",
      " 0   zona       20188 non-null  int64         \n",
      " 1   coficina   20188 non-null  int64         \n",
      " 2   noficina   20188 non-null  object        \n",
      " 3   credito    20188 non-null  object        \n",
      " 4   id         20179 non-null  float64       \n",
      " 5   nombre     20188 non-null  object        \n",
      " 6   finicio    20188 non-null  datetime64[ns]\n",
      " 7   analista   20188 non-null  object        \n",
      " 8   saldo      20188 non-null  int64         \n",
      " 9   monto      20188 non-null  int64         \n",
      " 10  plazo      20188 non-null  int64         \n",
      " 11  vcuota     20188 non-null  int64         \n",
      " 12  tasa       20188 non-null  float64       \n",
      " 13  producto   20188 non-null  object        \n",
      " 14  tipo       20188 non-null  object        \n",
      " 15  fproxpago  20188 non-null  datetime64[ns]\n",
      "dtypes: datetime64[ns](2), float64(2), int64(6), object(6)\n",
      "memory usage: 2.5+ MB\n",
      "<class 'pandas.core.frame.DataFrame'>\n",
      "RangeIndex: 3919 entries, 0 to 3918\n",
      "Data columns (total 28 columns):\n",
      " #   Column                   Non-Null Count  Dtype  \n",
      "---  ------                   --------------  -----  \n",
      " 0   Num                      3919 non-null   int64  \n",
      " 1   ID_modif                 3919 non-null   int64  \n",
      " 2   Cliente                  3918 non-null   object \n",
      " 3   Analista                 3919 non-null   object \n",
      " 4   Nombre analista          3919 non-null   object \n",
      " 5   Tipo crédito             3717 non-null   object \n",
      " 6   Fecha desem              3916 non-null   object \n",
      " 7   Visita_analista_crédito  3119 non-null   object \n",
      " 8   Visita_auditor           3800 non-null   object \n",
      " 9   Actividad                3867 non-null   object \n",
      " 10  Monto                    3919 non-null   float64\n",
      " 11  Cuota                    3919 non-null   object \n",
      " 12  Plazo                    3919 non-null   int64  \n",
      " 13  Categoria                3919 non-null   object \n",
      " 14  Hallazgo                 3917 non-null   object \n",
      " 15  Tipo hallazgo            3918 non-null   object \n",
      " 16  Riesgo                   3915 non-null   object \n",
      " 17  Calificación cartera     3889 non-null   object \n",
      " 18  Relaciones Laborales     3423 non-null   object \n",
      " 19  Oficina                  3919 non-null   object \n",
      " 20  zona                     3919 non-null   int64  \n",
      " 21  Regional                 3919 non-null   int64  \n",
      " 22  Validación unico         247 non-null    object \n",
      " 23  Tipo analisis            2397 non-null   object \n",
      " 24  Clasificac analisis      2397 non-null   object \n",
      " 25  Estado                   2786 non-null   object \n",
      " 26  Año                      3919 non-null   int64  \n",
      " 27  Tipo                     2786 non-null   object \n",
      "dtypes: float64(1), int64(6), object(21)\n",
      "memory usage: 857.4+ KB\n"
     ]
    },
    {
     "data": {
      "text/plain": [
       "(None,\n",
       "    zona  coficina   noficina       credito            id              nombre  \\\n",
       " 0     1         1  PRINCIPAL  001MH0109358  1.343595e+07  ALDEMAR MENDEZ RIV   \n",
       " 1     1         1  PRINCIPAL  001PG1200252  6.684842e+07  LUZ AMANDA DIAZ RI   \n",
       " 2     1         1  PRINCIPAL  001PG1200253  1.010138e+09  Danna Catalina Ort   \n",
       " 3     1         1  PRINCIPAL  001PG1200254  1.495966e+07  MIGUEL GERARDO ENR   \n",
       " 4     1         1  PRINCIPAL  001PG1200255  1.118871e+09           LIZA LARA   \n",
       " \n",
       "      finicio analista    saldo    monto  plazo  vcuota   tasa producto   tipo  \\\n",
       " 0 2020-10-31      DPC  1181630  1181630     10  147304  32.16     MH01  NUEVO   \n",
       " 1 2020-10-31      JHJ  1166688  1166688     12   57766  37.08     PG12  NUEVO   \n",
       " 2 2020-10-31      FUX  1537195  1537195     15   68193  37.08     PG12  NUEVO   \n",
       " 3 2020-10-31      GFD  1877610  1877610     15   87164  37.08     PG12  NUEVO   \n",
       " 4 2020-10-31      JHJ  1266688  1266688     12   58802  37.08     PG12  NUEVO   \n",
       " \n",
       "    fproxpago  \n",
       " 0 2024-12-10  \n",
       " 1 2024-12-10  \n",
       " 2 2024-12-05  \n",
       " 3 2024-12-07  \n",
       " 4 2024-12-07  ,\n",
       " None,\n",
       "    Num    ID_modif                                            Cliente  \\\n",
       " 0    1     7252440                         Hector Julio Pabon Castano   \n",
       " 1    2  1143936676  Casas Marisol                                 ...   \n",
       " 2    3  1193501439                         Jose Armando Agudelo Gomez   \n",
       " 3    4  1088033647                              Jennifer  Lopez Perez   \n",
       " 4    5  1116271559                        Laura Marcela Valdes Zapata   \n",
       " \n",
       "   Analista                 Nombre analista Tipo crédito          Fecha desem  \\\n",
       " 0      AIZ  Juan Alejandro Trujillo Garcia   Renovacion  2021-06-11 00:00:00   \n",
       " 1      JQQ       Alexander Joaqui Quintero   Renovacion  2021-06-15 00:00:00   \n",
       " 2      HZT                       Aleatorio          NaN  2022-10-02 00:00:00   \n",
       " 3      IOC         Nicolas  Suaza Pulgarin        Nuevo  2022-05-03 00:00:00   \n",
       " 4      CZL         Martha  Herrera Giraldo   Renovación  2022-03-11 00:00:00   \n",
       " \n",
       "   Visita_analista_crédito       Visita_auditor  \\\n",
       " 0                     NaN  2022-09-20 00:00:00   \n",
       " 1     2021-06-08 00:00:00                  NaN   \n",
       " 2     2022-02-10 00:00:00             00:00:00   \n",
       " 3                     NaN  2022-08-22 00:00:00   \n",
       " 4     2022-03-05 00:00:00  2022-06-07 00:00:00   \n",
       " \n",
       "                                            Actividad  ...  \\\n",
       " 0                               don patacon postobon  ...   \n",
       " 1  expendio de comidas preparadas en cafeterias  ...  ...   \n",
       " 2                                     Gallera Trebol  ...   \n",
       " 3                                          drogueria  ...   \n",
       " 4                       manualidades artes plasticas  ...   \n",
       " \n",
       "    Relaciones Laborales      Oficina   zona  Regional Validación unico  \\\n",
       " 0                    Si  Dosquebradas     12        4              NaN   \n",
       " 1                    Si       Poblado      1        1              NaN   \n",
       " 2                   NaN     Chaparral     11        4              NaN   \n",
       " 3                    Si  Dosquebradas     12        4              NaN   \n",
       " 4                   NaN         Tulua      3        1              NaN   \n",
       " \n",
       "   Tipo analisis  Clasificac analisis                          Estado   Año  \\\n",
       " 0            NaN                 NaN  Cancelada                       2022   \n",
       " 1            NaN                 NaN  Castigo                         2022   \n",
       " 2            NaN                 NaN  Cancelada                       2022   \n",
       " 3            NaN                 NaN  Modificado                      2022   \n",
       " 4            NaN                 NaN  Cancelada                       2022   \n",
       " \n",
       "                  Tipo  \n",
       " 0  Afecta Estabilidad  \n",
       " 1  Afecta Estabilidad  \n",
       " 2  Afecta Estabilidad  \n",
       " 3  Afecta Estabilidad  \n",
       " 4  Afecta Estabilidad  \n",
       " \n",
       " [5 rows x 28 columns])"
      ]
     },
     "execution_count": 101,
     "metadata": {},
     "output_type": "execute_result"
    }
   ],
   "source": [
    "\n",
    "\n",
    "# Cargar los archivos Excel para explorar su contenido\n",
    "path_colocacion = 'Colocacion_creditos.xlsx'\n",
    "path_historico = 'Historico_hallazgos.xlsx'\n",
    "\n",
    "# Leer las primeras hojas de cada archivo para explorar su contenido\n",
    "colocacion_df = pd.read_excel(path_colocacion, sheet_name=0)\n",
    "historico_df = pd.read_excel(path_historico, sheet_name=0)\n",
    "\n",
    "# Mostrar la estructura y las primeras filas de cada DataFrame\n",
    "colocacion_df_info = colocacion_df.info()\n",
    "colocacion_df_head = colocacion_df.head()\n",
    "\n",
    "historico_df_info = historico_df.info()\n",
    "historico_df_head = historico_df.head()\n",
    "\n",
    "(colocacion_df_info, colocacion_df_head, historico_df_info, historico_df_head)\n"
   ]
  },
  {
   "cell_type": "code",
   "execution_count": 102,
   "metadata": {},
   "outputs": [
    {
     "name": "stdout",
     "output_type": "stream",
     "text": [
      "Imputación de valores faltantes completada y datasets guardados.\n"
     ]
    }
   ],
   "source": [
    "# Imputación de valores faltantes en los datasets\n",
    "\n",
    "# Imputación en el dataset de Colocación de Créditos\n",
    "colocacion_df_imputed = colocacion_df.copy()\n",
    "\n",
    "# Imputar valores numéricos con la mediana\n",
    "numeric_cols = colocacion_df_imputed.select_dtypes(include=['int64', 'float64']).columns\n",
    "colocacion_df_imputed[numeric_cols] = colocacion_df_imputed[numeric_cols].apply(lambda x: x.fillna(x.median()))\n",
    "\n",
    "# Imputar valores categóricos con la moda\n",
    "categorical_cols = colocacion_df_imputed.select_dtypes(include=['object']).columns\n",
    "colocacion_df_imputed[categorical_cols] = colocacion_df_imputed[categorical_cols].apply(lambda x: x.fillna(x.mode()[0]))\n",
    "\n",
    "# Creación de columnas binarias para marcar valores faltantes antes de la imputación\n",
    "missing_cols = colocacion_df.columns[colocacion_df.isnull().any()]\n",
    "for col in missing_cols:\n",
    "    colocacion_df_imputed[f\"{col}_missing\"] = colocacion_df[col].isnull().astype(int)\n",
    "\n",
    "# Imputación en el dataset de Histórico de Hallazgos\n",
    "historico_df_imputed = historico_df.copy()\n",
    "\n",
    "# Imputar valores numéricos con la mediana\n",
    "numeric_cols_historico = historico_df_imputed.select_dtypes(include=['int64', 'float64']).columns\n",
    "historico_df_imputed[numeric_cols_historico] = historico_df_imputed[numeric_cols_historico].apply(lambda x: x.fillna(x.median()))\n",
    "\n",
    "# Imputar valores categóricos con la moda\n",
    "categorical_cols_historico = historico_df_imputed.select_dtypes(include=['object']).columns\n",
    "historico_df_imputed[categorical_cols_historico] = historico_df_imputed[categorical_cols_historico].apply(lambda x: x.fillna(x.mode()[0]))\n",
    "\n",
    "# Creación de columnas binarias para marcar valores faltantes antes de la imputación\n",
    "missing_cols_historico = historico_df.columns[historico_df.isnull().any()]\n",
    "for col in missing_cols_historico:\n",
    "    historico_df_imputed[f\"{col}_missing\"] = historico_df[col].isnull().astype(int)\n",
    "\n",
    "\n",
    "\n",
    "print(\"Imputación de valores faltantes completada y datasets guardados.\")"
   ]
  },
  {
   "cell_type": "code",
   "execution_count": 103,
   "metadata": {},
   "outputs": [
    {
     "name": "stdout",
     "output_type": "stream",
     "text": [
      "Imputación de valores faltantes y fusión de datasets completada. Dataset guardado.\n"
     ]
    }
   ],
   "source": [
    "# Imputación en el dataset de Histórico de Hallazgos\n",
    "historico_df_imputed = historico_df.copy()\n",
    "\n",
    "# Imputar valores numéricos con la mediana\n",
    "numeric_cols_historico = historico_df_imputed.select_dtypes(include=['int64', 'float64']).columns\n",
    "historico_df_imputed[numeric_cols_historico] = historico_df_imputed[numeric_cols_historico].apply(lambda x: x.fillna(x.median()))\n",
    "\n",
    "# Imputar valores categóricos con la moda\n",
    "categorical_cols_historico = historico_df_imputed.select_dtypes(include=['object']).columns\n",
    "historico_df_imputed[categorical_cols_historico] = historico_df_imputed[categorical_cols_historico].apply(lambda x: x.fillna(x.mode()[0]))\n",
    "\n",
    "# Creación de columnas binarias para marcar valores faltantes antes de la imputación\n",
    "missing_cols_historico = historico_df.columns[historico_df.isnull().any()]\n",
    "for col in missing_cols_historico:\n",
    "    historico_df_imputed[f\"{col}_missing\"] = historico_df[col].isnull().astype(int)\n",
    "\n",
    "# Normalizar los nombres de las oficinas para resolver la diferencia entre mayúsculas y minúsculas\n",
    "\n",
    "# Convertir los nombres de las oficinas a minúsculas en ambos datasets\n",
    "colocacion_df_imputed['noficina'] = colocacion_df_imputed['noficina'].str.lower()\n",
    "historico_df_imputed.rename(columns={'Oficina ': 'noficina'}, inplace=True)\n",
    "historico_df_imputed['noficina'] = historico_df_imputed['noficina'].str.lower()\n",
    "\n",
    "# Fusionar los datasets de Colocación de Créditos e Histórico de Hallazgos por la columna 'noficina'\n",
    "merged_df = pd.merge(colocacion_df_imputed, historico_df_imputed, on='noficina', how='inner')\n",
    "\n",
    "#\n",
    "\n",
    "print(\"Imputación de valores faltantes y fusión de datasets completada. Dataset guardado.\")"
   ]
  },
  {
   "cell_type": "code",
   "execution_count": 104,
   "metadata": {},
   "outputs": [],
   "source": [
    "# Realizar un análisis exploratorio ligero para las variables categóricas\n",
    "categorical_cols_merged = merged_df.select_dtypes(include=['object']).columns\n",
    "exploratory_summary = {}\n",
    "\n",
    "for col in categorical_cols_merged:\n",
    "    unique_values = merged_df[col].nunique()\n",
    "    top_categories = merged_df[col].value_counts().head(5)\n",
    "    exploratory_summary[col] = {\n",
    "        \"Cantidad de Categorías\": unique_values,\n",
    "        \"Categorías Más Frecuentes\": top_categories.to_dict()\n",
    "    }\n",
    "\n",
    "exploratory_df = pd.DataFrame(exploratory_summary).transpose()\n",
    "\n"
   ]
  },
  {
   "cell_type": "code",
   "execution_count": 105,
   "metadata": {},
   "outputs": [
    {
     "data": {
      "image/png": "[encoded data removed]",
      "text/plain": [
       "<Figure size 1000x600 with 1 Axes>"
      ]
     },
     "metadata": {},
     "output_type": "display_data"
    },
    {
     "name": "stdout",
     "output_type": "stream",
     "text": [
      "Análisis exploratorio de variables categóricas completado. Resumen y gráfica guardados.\n"
     ]
    }
   ],
   "source": [
    "import matplotlib.pyplot as plt\n",
    "plt.figure(figsize=(10, 6))\n",
    "exploratory_df['Cantidad de Categorías'].sort_values(ascending=False).plot(kind='bar', color='skyblue')\n",
    "plt.title('Cardinalidad de Variables Categóricas')\n",
    "plt.xlabel('Variables Categóricas')\n",
    "plt.ylabel('Cantidad de Categorías')\n",
    "plt.xticks(rotation=45, ha='right')\n",
    "plt.tight_layout()\n",
    "plt.savefig('Cardinalidad_Variables_Categoricas.png')\n",
    "plt.show()\n",
    "\n",
    "print(\"Análisis exploratorio de variables categóricas completado. Resumen y gráfica guardados.\")"
   ]
  },
  {
   "cell_type": "code",
   "execution_count": 106,
   "metadata": {},
   "outputs": [],
   "source": [
    "# Extracción de características temporales\n",
    "fecha_cols = merged_df.select_dtypes(include=['datetime']).columns\n",
    "\n",
    "for col in fecha_cols:\n",
    "    merged_df[f'{col}_year'] = merged_df[col].dt.year\n",
    "    merged_df[f'{col}_month'] = merged_df[col].dt.month\n",
    "    merged_df[f'{col}_day'] = merged_df[col].dt.day\n",
    "    merged_df[f'{col}_weekday'] = merged_df[col].dt.weekday\n",
    "    merged_df[f'{col}_is_weekend'] = merged_df[col].dt.weekday.isin([5, 6]).astype(int)\n",
    "\n",
    "# Eliminar las columnas originales de tipo datetime\n",
    "merged_df.drop(columns=fecha_cols, inplace=True)"
   ]
  },
  {
   "cell_type": "code",
   "execution_count": 107,
   "metadata": {},
   "outputs": [
    {
     "name": "stdout",
     "output_type": "stream",
     "text": [
      "Nombres de las columnas en el DataFrame fusionado:\n",
      "['zona', 'coficina', 'noficina', 'credito', 'id', 'nombre', 'analista', 'saldo', 'monto', 'plazo', 'vcuota', 'tasa', 'producto', 'tipo', 'id_missing', 'Num', 'ID_modif', 'Cliente', 'Analista', 'Nombre analista', 'Tipo crédito', 'Fecha desem', 'Visita_analista_crédito', 'Visita_auditor', 'Actividad', 'Monto', 'Cuota', 'Plazo', 'Categoria', 'Hallazgo', 'Tipo hallazgo', 'Riesgo', 'Calificación cartera', 'Relaciones Laborales', 'zona ', 'Regional', 'Validación unico', 'Tipo analisis ', 'Clasificac analisis', 'Estado', 'Año', 'Tipo', 'Cliente_missing', 'Tipo crédito_missing', 'Fecha desem_missing', 'Visita_analista_crédito_missing', 'Visita_auditor_missing', 'Actividad_missing', 'Hallazgo_missing', 'Tipo hallazgo_missing', 'Riesgo_missing', 'Calificación cartera_missing', 'Relaciones Laborales_missing', 'Validación unico_missing', 'Tipo analisis _missing', 'Clasificac analisis_missing', 'Estado_missing', 'Tipo_missing', 'finicio_year', 'finicio_month', 'finicio_day', 'finicio_weekday', 'finicio_is_weekend', 'fproxpago_year', 'fproxpago_month', 'fproxpago_day', 'fproxpago_weekday', 'fproxpago_is_weekend']\n"
     ]
    }
   ],
   "source": [
    "# Verificar los nombres de las columnas del DataFrame para identificar la columna objetivo\n",
    "print(\"Nombres de las columnas en el DataFrame fusionado:\")\n",
    "print(merged_df.columns.tolist())"
   ]
  },
  {
   "cell_type": "code",
   "execution_count": 108,
   "metadata": {},
   "outputs": [
    {
     "name": "stdout",
     "output_type": "stream",
     "text": [
      "Verificación de la columna 'Riesgo' después de la reconstrucción:\n",
      "True\n"
     ]
    }
   ],
   "source": [
    "\n",
    "# Verificar la presencia de la columna 'Riesgo' antes de continuar\n",
    "print(\"Verificación de la columna 'Riesgo' después de la reconstrucción:\")\n",
    "print('Riesgo' in merged_df.columns)\n"
   ]
  },
  {
   "cell_type": "code",
   "execution_count": 109,
   "metadata": {},
   "outputs": [
    {
     "name": "stdout",
     "output_type": "stream",
     "text": [
      "Valores de la columna 'Riesgo' convertidos correctamente a formato numérico.\n",
      "Columna 'Riesgo' codificada correctamente como variable ordinal.\n",
      "Columnas seleccionadas para Label Encoding: ['noficina', 'credito', 'nombre', 'analista', 'producto', 'tipo', 'Cliente', 'Analista', 'Nombre analista', 'Tipo crédito', 'Visita_analista_crédito', 'Visita_auditor', 'Actividad', 'Cuota', 'Categoria', 'Hallazgo', 'Tipo hallazgo', 'Calificación cartera', 'Relaciones Laborales', 'Validación unico', 'Tipo analisis ', 'Clasificac analisis', 'Estado', 'Tipo']\n",
      "Aplicando Label Encoding a la columna: noficina\n",
      "Aplicando Label Encoding a la columna: credito\n",
      "Aplicando Label Encoding a la columna: nombre\n",
      "Aplicando Label Encoding a la columna: analista\n",
      "Aplicando Label Encoding a la columna: producto\n",
      "Aplicando Label Encoding a la columna: tipo\n",
      "Aplicando Label Encoding a la columna: Cliente\n",
      "Aplicando Label Encoding a la columna: Analista\n",
      "Aplicando Label Encoding a la columna: Nombre analista\n",
      "Aplicando Label Encoding a la columna: Tipo crédito\n",
      "Aplicando Label Encoding a la columna: Visita_analista_crédito\n",
      "Aplicando Label Encoding a la columna: Visita_auditor\n",
      "Aplicando Label Encoding a la columna: Actividad\n",
      "Aplicando Label Encoding a la columna: Cuota\n",
      "Aplicando Label Encoding a la columna: Categoria\n",
      "Aplicando Label Encoding a la columna: Hallazgo\n",
      "Aplicando Label Encoding a la columna: Tipo hallazgo\n",
      "Aplicando Label Encoding a la columna: Calificación cartera\n",
      "Aplicando Label Encoding a la columna: Relaciones Laborales\n",
      "Aplicando Label Encoding a la columna: Validación unico\n",
      "Aplicando Label Encoding a la columna: Tipo analisis \n",
      "Aplicando Label Encoding a la columna: Clasificac analisis\n",
      "Aplicando Label Encoding a la columna: Estado\n",
      "Aplicando Label Encoding a la columna: Tipo\n",
      "Preparando para guardar el dataset final...\n",
      "Dataset codificado final guardado.\n"
     ]
    }
   ],
   "source": [
    "\n",
    "# Extraer componentes temporales de la columna 'Fecha desem'\n",
    "if 'Fecha desem' in merged_df.columns:\n",
    "    merged_df['Fecha desem'] = pd.to_datetime(merged_df['Fecha desem'], errors='coerce')\n",
    "    merged_df['Fecha_desem_year'] = merged_df['Fecha desem'].dt.year\n",
    "    merged_df['Fecha_desem_month'] = merged_df['Fecha desem'].dt.month\n",
    "    merged_df['Fecha_desem_day'] = merged_df['Fecha desem'].dt.day\n",
    "    merged_df['Fecha_desem_weekday'] = merged_df['Fecha desem'].dt.weekday\n",
    "    merged_df['Fecha_desem_is_weekend'] = merged_df['Fecha desem'].dt.weekday.isin([5, 6]).astype(int)\n",
    "    # Eliminar la columna original de fecha\n",
    "    merged_df.drop(columns=['Fecha desem'], inplace=True)\n",
    "\n",
    "# Convertir los valores de la columna 'Riesgo' a su formato numérico adecuado\n",
    "riesgo_mapping = {\n",
    "    '1 - Alto': 1,\n",
    "    '2 - Medio': 2,\n",
    "    '3 - Bajo': 3,\n",
    "    '4 - Otro': 4,\n",
    "    'No aplica': 4  # Asignar 'No aplica' al valor '4' (Otro)\n",
    "}\n",
    "if 'Riesgo' in merged_df.columns:\n",
    "    merged_df['Riesgo'] = merged_df['Riesgo'].map(riesgo_mapping)\n",
    "    print(\"Valores de la columna 'Riesgo' convertidos correctamente a formato numérico.\")\n",
    "else:\n",
    "    print(\"La columna 'Riesgo' no se encuentra en el DataFrame. Por favor verifica el nombre de la columna.\")\n",
    "\n",
    "# Codificar la columna 'Riesgo' como una variable ordinal\n",
    "from sklearn.preprocessing import OrdinalEncoder, LabelEncoder\n",
    "\n",
    "ordinal_encoder = OrdinalEncoder(categories=[[1, 2, 3, 4]])\n",
    "if 'Riesgo' in merged_df.columns:\n",
    "    merged_df['Riesgo_encoded'] = ordinal_encoder.fit_transform(merged_df[['Riesgo']])\n",
    "    # Eliminar la columna original 'Riesgo'\n",
    "    merged_df.drop(columns=['Riesgo'], inplace=True)\n",
    "    print(\"Columna 'Riesgo' codificada correctamente como variable ordinal.\")\n",
    "else:\n",
    "    print(\"La columna 'Riesgo' no se encuentra en el DataFrame. Por favor verifica el nombre de la columna.\")\n",
    "\n",
    "# Aplicar Label Encoding solo a las variables categóricas que no son numéricas, excluyendo 'Riesgo_encoded'\n",
    "categorical_cols = [col for col in categorical_cols_merged if col in merged_df.columns and merged_df[col].dtype == 'object' and col != 'Riesgo_encoded']\n",
    "\n",
    "# Imprimir las columnas que se van a codificar con Label Encoding\n",
    "print(\"Columnas seleccionadas para Label Encoding:\", categorical_cols)\n",
    "\n",
    "label_encoder = LabelEncoder()\n",
    "encoding_maps = {}\n",
    "\n",
    "if categorical_cols:\n",
    "    for col in categorical_cols:\n",
    "        print(f\"Aplicando Label Encoding a la columna: {col}\")\n",
    "        merged_df[col + '_encoded'] = label_encoder.fit_transform(merged_df[col].astype(str))\n",
    "        # Guardar el mapeo de los valores originales y los valores codificados\n",
    "        encoding_maps[col] = dict(zip(label_encoder.classes_, label_encoder.transform(label_encoder.classes_)))\n",
    "    # Guardar los mapeos de codificación\n",
    "import json\n",
    "encoding_maps_df = pd.DataFrame.from_dict(encoding_maps, orient='index').transpose()\n",
    "encoding_maps_df.to_excel('encoding_maps.xlsx', index=False)\n",
    "\n",
    "# Guardar el dataset codificado en una nueva celda\n",
    "print(\"Preparando para guardar el dataset final...\")\n",
    "\n",
    "# Guardar el dataset codificado final\n",
    "merged_df.to_excel('Dataset_CodificadoFINAL4.xlsx', index=False)\n",
    "print(\"Dataset codificado final guardado.\")"
   ]
  },
  {
   "cell_type": "code",
   "execution_count": 112,
   "metadata": {},
   "outputs": [
    {
     "name": "stdout",
     "output_type": "stream",
     "text": [
      "Análisis de la distribución de la columna 'Riesgo_encoded':\n",
      "Riesgo_encoded\n",
      "1.0    191961\n",
      "3.0    186986\n",
      "2.0     60788\n",
      "0.0     48124\n",
      "Name: count, dtype: int64\n",
      "Agencias con mayor riesgo promedio:\n",
      "noficina\n",
      "santander de quilichao    2.795918\n",
      "facatativa                2.750000\n",
      "Name: Riesgo_encoded, dtype: float64\n",
      "Análisis de riesgo y clientes más y menos riesgosos guardados en un único archivo, incluyendo el diccionario de datos.\n"
     ]
    }
   ],
   "source": [
    "# Análisis de la distribución de Riesgo\n",
    "print(\"Análisis de la distribución de la columna 'Riesgo_encoded':\")\n",
    "risk_distribution = merged_df['Riesgo_encoded'].value_counts()\n",
    "print(risk_distribution)\n",
    "\n",
    "# Identificar los clientes más y menos riesgosos por agencia (noficina), seleccionando una muestra exacta y manteniendo un orden consistente\n",
    "top_risk_clients = merged_df.sort_values(by=['noficina', 'Riesgo_encoded', 'id'], ascending=[True, True, True]).groupby('noficina').head(15).reset_index(drop=True)\n",
    "low_risk_clients = merged_df.sort_values(by=['noficina', 'Riesgo_encoded', 'id'], ascending=[True, False, True]).groupby('noficina').head(5).reset_index(drop=True)\n",
    "\n",
    "# Identificar las dos agencias con mayor riesgo promedio\n",
    "agency_risk = merged_df.groupby('noficina')['Riesgo_encoded'].mean().sort_values(ascending=False).head(2)\n",
    "print(\"Agencias con mayor riesgo promedio:\")\n",
    "print(agency_risk)\n",
    "\n",
    "# Crear un diccionario de datos para las variables codificadas\n",
    "encoding_maps_df = pd.DataFrame.from_dict(encoding_maps, orient='index').transpose()\n",
    "\n",
    "# Guardar todos los resultados en un único archivo Excel con diferentes hojas\n",
    "with pd.ExcelWriter('Analisis_Riesgo_Clientes_AgenciasFinal.xlsx') as writer:\n",
    "    top_risk_clients.to_excel(writer, sheet_name='Top_Risk_Clients', index=False)\n",
    "    low_risk_clients.to_excel(writer, sheet_name='Low_Risk_Clients', index=False)\n",
    "    agency_risk.to_excel(writer, sheet_name='Agency_Risk_Analysis')\n",
    "    risk_distribution.to_excel(writer, sheet_name='Risk_Distribution')\n",
    "    encoding_maps_df.to_excel(writer, sheet_name='Encoding_Dictionary', index=False)\n",
    "\n",
    "print(\"Análisis de riesgo y clientes más y menos riesgosos guardados en un único archivo, incluyendo el diccionario de datos.\")"
   ]
  },
  {
   "cell_type": "code",
   "execution_count": 117,
   "metadata": {},
   "outputs": [],
   "source": [
    "# División de los datos en entrenamiento y prueba\n",
    "from sklearn.model_selection import train_test_split\n",
    "\n",
    "# Filtrar las columnas no numéricas que puedan causar problemas e imputar valores faltantes\n",
    "X = merged_df.select_dtypes(include=[np.number]).drop(columns=['Riesgo_encoded'])\n",
    "X = X.fillna(X.median())  # Imputar valores faltantes con la mediana\n",
    "y = merged_df['Riesgo_encoded']\n",
    "\n",
    "X_train, X_test, y_train, y_test = train_test_split(X, y, test_size=0.2, random_state=42)"
   ]
  },
  {
   "cell_type": "code",
   "execution_count": null,
   "metadata": {},
   "outputs": [],
   "source": [
    "# Construcción del pipeline para el modelo de clasificación\n",
    "from sklearn.pipeline import Pipeline\n",
    "from sklearn.preprocessing import StandardScaler\n",
    "from sklearn.svm import SVC\n",
    "from sklearn.metrics import classification_report, roc_auc_score\n",
    "\n",
    "pipeline = Pipeline([\n",
    "    ('scaler', StandardScaler()),\n",
    "    ('svc', SVC(kernel='rbf', probability=True, random_state=42))\n",
    "])\n",
    "\n",
    "# Entrenamiento del modelo\n",
    "pipeline.fit(X_train, y_train)\n",
    "\n",
    "# Predicción y evaluación del modelo\n",
    "y_pred = pipeline.predict(X_test)\n",
    "y_prob = pipeline.predict_proba(X_test)[:, 1]\n",
    "\n",
    "print(\"Reporte de clasificación:\")\n",
    "print(classification_report(y_test, y_pred))\n",
    "print(\"ROC AUC Score:\", roc_auc_score(y_test, y_prob))"
   ]
  },
  {
   "cell_type": "code",
   "execution_count": 86,
   "metadata": {},
   "outputs": [
    {
     "name": "stderr",
     "output_type": "stream",
     "text": [
      "C:\\Users\\alvar\\AppData\\Local\\Temp\\ipykernel_15588\\4162041391.py:3: UserWarning: Could not infer format, so each element will be parsed individually, falling back to `dateutil`. To ensure parsing is consistent and as-expected, please specify a format.\n",
      "  merged_df['Fecha desem'] = pd.to_datetime(merged_df['Fecha desem'], errors='coerce')\n"
     ]
    },
    {
     "name": "stdout",
     "output_type": "stream",
     "text": [
      "Valores de la columna 'Riesgo' convertidos correctamente a formato numérico.\n",
      "Columna 'Riesgo' codificada correctamente como variable ordinal.\n",
      "Columnas seleccionadas para Label Encoding: ['noficina', 'credito', 'nombre', 'analista', 'producto', 'tipo', 'Cliente', 'Analista', 'Nombre analista', 'Tipo crédito', 'Visita_analista_crédito', 'Visita_auditor', 'Actividad', 'Cuota', 'Categoria', 'Hallazgo', 'Tipo hallazgo', 'Calificación cartera', 'Relaciones Laborales', 'Validación unico', 'Tipo analisis ', 'Clasificac analisis', 'Estado', 'Tipo']\n",
      "Aplicando Label Encoding a la columna: noficina\n",
      "Aplicando Label Encoding a la columna: credito\n",
      "Aplicando Label Encoding a la columna: nombre\n",
      "Aplicando Label Encoding a la columna: analista\n",
      "Aplicando Label Encoding a la columna: producto\n",
      "Aplicando Label Encoding a la columna: tipo\n",
      "Aplicando Label Encoding a la columna: Cliente\n",
      "Aplicando Label Encoding a la columna: Analista\n",
      "Aplicando Label Encoding a la columna: Nombre analista\n",
      "Aplicando Label Encoding a la columna: Tipo crédito\n",
      "Aplicando Label Encoding a la columna: Visita_analista_crédito\n",
      "Aplicando Label Encoding a la columna: Visita_auditor\n",
      "Aplicando Label Encoding a la columna: Actividad\n",
      "Aplicando Label Encoding a la columna: Cuota\n",
      "Aplicando Label Encoding a la columna: Categoria\n",
      "Aplicando Label Encoding a la columna: Hallazgo\n",
      "Aplicando Label Encoding a la columna: Tipo hallazgo\n",
      "Aplicando Label Encoding a la columna: Calificación cartera\n",
      "Aplicando Label Encoding a la columna: Relaciones Laborales\n",
      "Aplicando Label Encoding a la columna: Validación unico\n",
      "Aplicando Label Encoding a la columna: Tipo analisis \n",
      "Aplicando Label Encoding a la columna: Clasificac analisis\n",
      "Aplicando Label Encoding a la columna: Estado\n",
      "Aplicando Label Encoding a la columna: Tipo\n"
     ]
    }
   ],
   "source": [
    "# Extraer componentes temporales de la columna 'Fecha desem'\n",
    "if 'Fecha desem' in merged_df.columns:\n",
    "    merged_df['Fecha desem'] = pd.to_datetime(merged_df['Fecha desem'], errors='coerce')\n",
    "    merged_df['Fecha_desem_year'] = merged_df['Fecha desem'].dt.year\n",
    "    merged_df['Fecha_desem_month'] = merged_df['Fecha desem'].dt.month\n",
    "    merged_df['Fecha_desem_day'] = merged_df['Fecha desem'].dt.day\n",
    "    merged_df['Fecha_desem_weekday'] = merged_df['Fecha desem'].dt.weekday\n",
    "    merged_df['Fecha_desem_is_weekend'] = merged_df['Fecha desem'].dt.weekday.isin([5, 6]).astype(int)\n",
    "    # Eliminar la columna original de fecha\n",
    "    merged_df.drop(columns=['Fecha desem'], inplace=True)\n",
    "\n",
    "# Convertir los valores de la columna 'Riesgo' a su formato numérico adecuado\n",
    "riesgo_mapping = {\n",
    "    '1 - Alto': 1,\n",
    "    '2 - Medio': 2,\n",
    "    '3 - Bajo': 3,\n",
    "    '4 - Otro': 4,\n",
    "    'No aplica': 4  # Asignar 'No aplica' al valor '4' (Otro)\n",
    "}\n",
    "if 'Riesgo' in merged_df.columns:\n",
    "    merged_df['Riesgo'] = merged_df['Riesgo'].map(riesgo_mapping)\n",
    "    print(\"Valores de la columna 'Riesgo' convertidos correctamente a formato numérico.\")\n",
    "else:\n",
    "    print(\"La columna 'Riesgo' no se encuentra en el DataFrame. Por favor verifica el nombre de la columna.\")\n",
    "\n",
    "# Codificar la columna 'Riesgo' como una variable ordinal\n",
    "from sklearn.preprocessing import OrdinalEncoder, LabelEncoder\n",
    "\n",
    "ordinal_encoder = OrdinalEncoder(categories=[[1, 2, 3, 4]])\n",
    "if 'Riesgo' in merged_df.columns:\n",
    "    merged_df['Riesgo_encoded'] = ordinal_encoder.fit_transform(merged_df[['Riesgo']])\n",
    "    # Eliminar la columna original 'Riesgo'\n",
    "    merged_df.drop(columns=['Riesgo'], inplace=True)\n",
    "    print(\"Columna 'Riesgo' codificada correctamente como variable ordinal.\")\n",
    "else:\n",
    "    print(\"La columna 'Riesgo' no se encuentra en el DataFrame. Por favor verifica el nombre de la columna.\")\n",
    "\n",
    "# Aplicar Label Encoding para todas las demás variables categóricas, excluyendo 'Riesgo_encoded'\n",
    "categorical_cols = [col for col in categorical_cols_merged if col in merged_df.columns and col != 'Riesgo_encoded']\n",
    "\n",
    "# Imprimir las columnas que se van a codificar con Label Encoding\n",
    "print(\"Columnas seleccionadas para Label Encoding:\", categorical_cols)\n",
    "\n",
    "label_encoder = LabelEncoder()\n",
    "\n",
    "if categorical_cols:\n",
    "    for col in categorical_cols:\n",
    "        print(f\"Aplicando Label Encoding a la columna: {col}\")\n",
    "        merged_df[col + '_encoded'] = label_encoder.fit_transform(merged_df[col].astype(str))\n",
    "\n"
   ]
  },
  {
   "cell_type": "code",
   "execution_count": 87,
   "metadata": {},
   "outputs": [
    {
     "name": "stdout",
     "output_type": "stream",
     "text": [
      "Dataset codificado final guardado.\n"
     ]
    }
   ],
   "source": [
    "# Guardar el dataset codificado final\n",
    "merged_df.to_excel('Dataset_CodificadoFINAL2.xlsx', index=False)\n",
    "print(\"Dataset codificado final guardado.\")"
   ]
  },
  {
   "cell_type": "code",
   "execution_count": 72,
   "metadata": {},
   "outputs": [
    {
     "name": "stdout",
     "output_type": "stream",
     "text": [
      "Análisis de la distribución de la columna 'Riesgo_encoded':\n",
      "Riesgo_encoded\n",
      "1.0    191961\n",
      "3.0    186986\n",
      "2.0     60788\n",
      "0.0     48124\n",
      "Name: count, dtype: int64\n"
     ]
    }
   ],
   "source": [
    "# Análisis de la distribución de Riesgo\n",
    "print(\"Análisis de la distribución de la columna 'Riesgo_encoded':\")\n",
    "risk_distribution = merged_df['Riesgo_encoded'].value_counts()\n",
    "print(risk_distribution)"
   ]
  },
  {
   "cell_type": "code",
   "execution_count": 73,
   "metadata": {},
   "outputs": [
    {
     "ename": "KeyError",
     "evalue": "'noficina'",
     "output_type": "error",
     "traceback": [
      "\u001b[1;31m---------------------------------------------------------------------------\u001b[0m",
      "\u001b[1;31mKeyError\u001b[0m                                  Traceback (most recent call last)",
      "Cell \u001b[1;32mIn[73], line 2\u001b[0m\n\u001b[0;32m      1\u001b[0m \u001b[38;5;66;03m# Identificar los clientes más y menos riesgosos por agencia (noficina)\u001b[39;00m\n\u001b[1;32m----> 2\u001b[0m top_risk_clients \u001b[38;5;241m=\u001b[39m \u001b[43mmerged_df\u001b[49m\u001b[38;5;241;43m.\u001b[39;49m\u001b[43msort_values\u001b[49m\u001b[43m(\u001b[49m\u001b[43mby\u001b[49m\u001b[38;5;241;43m=\u001b[39;49m\u001b[43m[\u001b[49m\u001b[38;5;124;43m'\u001b[39;49m\u001b[38;5;124;43mRiesgo_encoded\u001b[39;49m\u001b[38;5;124;43m'\u001b[39;49m\u001b[43m]\u001b[49m\u001b[43m,\u001b[49m\u001b[43m \u001b[49m\u001b[43mascending\u001b[49m\u001b[38;5;241;43m=\u001b[39;49m\u001b[38;5;28;43;01mTrue\u001b[39;49;00m\u001b[43m)\u001b[49m\u001b[38;5;241;43m.\u001b[39;49m\u001b[43mgroupby\u001b[49m\u001b[43m(\u001b[49m\u001b[38;5;124;43m'\u001b[39;49m\u001b[38;5;124;43mnoficina\u001b[39;49m\u001b[38;5;124;43m'\u001b[39;49m\u001b[43m)\u001b[49m\u001b[38;5;241m.\u001b[39mhead(\u001b[38;5;241m15\u001b[39m)\n\u001b[0;32m      3\u001b[0m low_risk_clients \u001b[38;5;241m=\u001b[39m merged_df\u001b[38;5;241m.\u001b[39msort_values(by\u001b[38;5;241m=\u001b[39m[\u001b[38;5;124m'\u001b[39m\u001b[38;5;124mRiesgo_encoded\u001b[39m\u001b[38;5;124m'\u001b[39m], ascending\u001b[38;5;241m=\u001b[39m\u001b[38;5;28;01mFalse\u001b[39;00m)\u001b[38;5;241m.\u001b[39mgroupby(\u001b[38;5;124m'\u001b[39m\u001b[38;5;124mnoficina\u001b[39m\u001b[38;5;124m'\u001b[39m)\u001b[38;5;241m.\u001b[39mhead(\u001b[38;5;241m5\u001b[39m)\n\u001b[0;32m      5\u001b[0m \u001b[38;5;66;03m# Guardar los clientes más y menos riesgosos\u001b[39;00m\n",
      "File \u001b[1;32mc:\\Users\\alvar\\AppData\\Local\\Programs\\Python\\Python311\\Lib\\site-packages\\pandas\\core\\frame.py:9183\u001b[0m, in \u001b[0;36mDataFrame.groupby\u001b[1;34m(self, by, axis, level, as_index, sort, group_keys, observed, dropna)\u001b[0m\n\u001b[0;32m   9180\u001b[0m \u001b[38;5;28;01mif\u001b[39;00m level \u001b[38;5;129;01mis\u001b[39;00m \u001b[38;5;28;01mNone\u001b[39;00m \u001b[38;5;129;01mand\u001b[39;00m by \u001b[38;5;129;01mis\u001b[39;00m \u001b[38;5;28;01mNone\u001b[39;00m:\n\u001b[0;32m   9181\u001b[0m     \u001b[38;5;28;01mraise\u001b[39;00m \u001b[38;5;167;01mTypeError\u001b[39;00m(\u001b[38;5;124m\"\u001b[39m\u001b[38;5;124mYou have to supply one of \u001b[39m\u001b[38;5;124m'\u001b[39m\u001b[38;5;124mby\u001b[39m\u001b[38;5;124m'\u001b[39m\u001b[38;5;124m and \u001b[39m\u001b[38;5;124m'\u001b[39m\u001b[38;5;124mlevel\u001b[39m\u001b[38;5;124m'\u001b[39m\u001b[38;5;124m\"\u001b[39m)\n\u001b[1;32m-> 9183\u001b[0m \u001b[38;5;28;01mreturn\u001b[39;00m \u001b[43mDataFrameGroupBy\u001b[49m\u001b[43m(\u001b[49m\n\u001b[0;32m   9184\u001b[0m \u001b[43m    \u001b[49m\u001b[43mobj\u001b[49m\u001b[38;5;241;43m=\u001b[39;49m\u001b[38;5;28;43mself\u001b[39;49m\u001b[43m,\u001b[49m\n\u001b[0;32m   9185\u001b[0m \u001b[43m    \u001b[49m\u001b[43mkeys\u001b[49m\u001b[38;5;241;43m=\u001b[39;49m\u001b[43mby\u001b[49m\u001b[43m,\u001b[49m\n\u001b[0;32m   9186\u001b[0m \u001b[43m    \u001b[49m\u001b[43maxis\u001b[49m\u001b[38;5;241;43m=\u001b[39;49m\u001b[43maxis\u001b[49m\u001b[43m,\u001b[49m\n\u001b[0;32m   9187\u001b[0m \u001b[43m    \u001b[49m\u001b[43mlevel\u001b[49m\u001b[38;5;241;43m=\u001b[39;49m\u001b[43mlevel\u001b[49m\u001b[43m,\u001b[49m\n\u001b[0;32m   9188\u001b[0m \u001b[43m    \u001b[49m\u001b[43mas_index\u001b[49m\u001b[38;5;241;43m=\u001b[39;49m\u001b[43mas_index\u001b[49m\u001b[43m,\u001b[49m\n\u001b[0;32m   9189\u001b[0m \u001b[43m    \u001b[49m\u001b[43msort\u001b[49m\u001b[38;5;241;43m=\u001b[39;49m\u001b[43msort\u001b[49m\u001b[43m,\u001b[49m\n\u001b[0;32m   9190\u001b[0m \u001b[43m    \u001b[49m\u001b[43mgroup_keys\u001b[49m\u001b[38;5;241;43m=\u001b[39;49m\u001b[43mgroup_keys\u001b[49m\u001b[43m,\u001b[49m\n\u001b[0;32m   9191\u001b[0m \u001b[43m    \u001b[49m\u001b[43mobserved\u001b[49m\u001b[38;5;241;43m=\u001b[39;49m\u001b[43mobserved\u001b[49m\u001b[43m,\u001b[49m\n\u001b[0;32m   9192\u001b[0m \u001b[43m    \u001b[49m\u001b[43mdropna\u001b[49m\u001b[38;5;241;43m=\u001b[39;49m\u001b[43mdropna\u001b[49m\u001b[43m,\u001b[49m\n\u001b[0;32m   9193\u001b[0m \u001b[43m\u001b[49m\u001b[43m)\u001b[49m\n",
      "File \u001b[1;32mc:\\Users\\alvar\\AppData\\Local\\Programs\\Python\\Python311\\Lib\\site-packages\\pandas\\core\\groupby\\groupby.py:1329\u001b[0m, in \u001b[0;36mGroupBy.__init__\u001b[1;34m(self, obj, keys, axis, level, grouper, exclusions, selection, as_index, sort, group_keys, observed, dropna)\u001b[0m\n\u001b[0;32m   1326\u001b[0m \u001b[38;5;28mself\u001b[39m\u001b[38;5;241m.\u001b[39mdropna \u001b[38;5;241m=\u001b[39m dropna\n\u001b[0;32m   1328\u001b[0m \u001b[38;5;28;01mif\u001b[39;00m grouper \u001b[38;5;129;01mis\u001b[39;00m \u001b[38;5;28;01mNone\u001b[39;00m:\n\u001b[1;32m-> 1329\u001b[0m     grouper, exclusions, obj \u001b[38;5;241m=\u001b[39m \u001b[43mget_grouper\u001b[49m\u001b[43m(\u001b[49m\n\u001b[0;32m   1330\u001b[0m \u001b[43m        \u001b[49m\u001b[43mobj\u001b[49m\u001b[43m,\u001b[49m\n\u001b[0;32m   1331\u001b[0m \u001b[43m        \u001b[49m\u001b[43mkeys\u001b[49m\u001b[43m,\u001b[49m\n\u001b[0;32m   1332\u001b[0m \u001b[43m        \u001b[49m\u001b[43maxis\u001b[49m\u001b[38;5;241;43m=\u001b[39;49m\u001b[43maxis\u001b[49m\u001b[43m,\u001b[49m\n\u001b[0;32m   1333\u001b[0m \u001b[43m        \u001b[49m\u001b[43mlevel\u001b[49m\u001b[38;5;241;43m=\u001b[39;49m\u001b[43mlevel\u001b[49m\u001b[43m,\u001b[49m\n\u001b[0;32m   1334\u001b[0m \u001b[43m        \u001b[49m\u001b[43msort\u001b[49m\u001b[38;5;241;43m=\u001b[39;49m\u001b[43msort\u001b[49m\u001b[43m,\u001b[49m\n\u001b[0;32m   1335\u001b[0m \u001b[43m        \u001b[49m\u001b[43mobserved\u001b[49m\u001b[38;5;241;43m=\u001b[39;49m\u001b[38;5;28;43;01mFalse\u001b[39;49;00m\u001b[43m \u001b[49m\u001b[38;5;28;43;01mif\u001b[39;49;00m\u001b[43m \u001b[49m\u001b[43mobserved\u001b[49m\u001b[43m \u001b[49m\u001b[38;5;129;43;01mis\u001b[39;49;00m\u001b[43m \u001b[49m\u001b[43mlib\u001b[49m\u001b[38;5;241;43m.\u001b[39;49m\u001b[43mno_default\u001b[49m\u001b[43m \u001b[49m\u001b[38;5;28;43;01melse\u001b[39;49;00m\u001b[43m \u001b[49m\u001b[43mobserved\u001b[49m\u001b[43m,\u001b[49m\n\u001b[0;32m   1336\u001b[0m \u001b[43m        \u001b[49m\u001b[43mdropna\u001b[49m\u001b[38;5;241;43m=\u001b[39;49m\u001b[38;5;28;43mself\u001b[39;49m\u001b[38;5;241;43m.\u001b[39;49m\u001b[43mdropna\u001b[49m\u001b[43m,\u001b[49m\n\u001b[0;32m   1337\u001b[0m \u001b[43m    \u001b[49m\u001b[43m)\u001b[49m\n\u001b[0;32m   1339\u001b[0m \u001b[38;5;28;01mif\u001b[39;00m observed \u001b[38;5;129;01mis\u001b[39;00m lib\u001b[38;5;241m.\u001b[39mno_default:\n\u001b[0;32m   1340\u001b[0m     \u001b[38;5;28;01mif\u001b[39;00m \u001b[38;5;28many\u001b[39m(ping\u001b[38;5;241m.\u001b[39m_passed_categorical \u001b[38;5;28;01mfor\u001b[39;00m ping \u001b[38;5;129;01min\u001b[39;00m grouper\u001b[38;5;241m.\u001b[39mgroupings):\n",
      "File \u001b[1;32mc:\\Users\\alvar\\AppData\\Local\\Programs\\Python\\Python311\\Lib\\site-packages\\pandas\\core\\groupby\\grouper.py:1043\u001b[0m, in \u001b[0;36mget_grouper\u001b[1;34m(obj, key, axis, level, sort, observed, validate, dropna)\u001b[0m\n\u001b[0;32m   1041\u001b[0m         in_axis, level, gpr \u001b[38;5;241m=\u001b[39m \u001b[38;5;28;01mFalse\u001b[39;00m, gpr, \u001b[38;5;28;01mNone\u001b[39;00m\n\u001b[0;32m   1042\u001b[0m     \u001b[38;5;28;01melse\u001b[39;00m:\n\u001b[1;32m-> 1043\u001b[0m         \u001b[38;5;28;01mraise\u001b[39;00m \u001b[38;5;167;01mKeyError\u001b[39;00m(gpr)\n\u001b[0;32m   1044\u001b[0m \u001b[38;5;28;01melif\u001b[39;00m \u001b[38;5;28misinstance\u001b[39m(gpr, Grouper) \u001b[38;5;129;01mand\u001b[39;00m gpr\u001b[38;5;241m.\u001b[39mkey \u001b[38;5;129;01mis\u001b[39;00m \u001b[38;5;129;01mnot\u001b[39;00m \u001b[38;5;28;01mNone\u001b[39;00m:\n\u001b[0;32m   1045\u001b[0m     \u001b[38;5;66;03m# Add key to exclusions\u001b[39;00m\n\u001b[0;32m   1046\u001b[0m     exclusions\u001b[38;5;241m.\u001b[39madd(gpr\u001b[38;5;241m.\u001b[39mkey)\n",
      "\u001b[1;31mKeyError\u001b[0m: 'noficina'"
     ]
    }
   ],
   "source": [
    "# Identificar los clientes más y menos riesgosos por agencia (noficina)\n",
    "top_risk_clients = merged_df.sort_values(by=['Riesgo_encoded'], ascending=True).groupby('noficina').head(15)\n",
    "low_risk_clients = merged_df.sort_values(by=['Riesgo_encoded'], ascending=False).groupby('noficina').head(5)\n",
    "\n",
    "# Guardar los clientes más y menos riesgosos\n",
    "top_risk_clients.to_excel('Top_Risk_Clients.xlsx', index=False)\n",
    "low_risk_clients.to_excel('Low_Risk_Clients.xlsx', index=False)\n",
    "print(\"Clientes más y menos riesgosos guardados.\")\n"
   ]
  }
 ],
 "metadata": {
  "kernelspec": {
   "display_name": "Python 3",
   "language": "python",
   "name": "python3"
  },
  "language_info": {
   "codemirror_mode": {
    "name": "ipython",
    "version": 3
   },
   "file_extension": ".py",
   "mimetype": "text/x-python",
   "name": "python",
   "nbconvert_exporter": "python",
   "pygments_lexer": "ipython3",
   "version": "3.11.3"
  }
 },
 "nbformat": 4,
 "nbformat_minor": 2
}
